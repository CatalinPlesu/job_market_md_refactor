{
 "cells": [
  {
   "cell_type": "code",
   "execution_count": 23,
   "id": "88ade96b",
   "metadata": {},
   "outputs": [
    {
     "data": {
      "text/plain": [
       "<module 'config' from '/home/catalin/Workspace/Jupiter/job_market_md_refactor/config.py'>"
      ]
     },
     "execution_count": 23,
     "metadata": {},
     "output_type": "execute_result"
    }
   ],
   "source": [
    "from rabota_scraper import scrape_rabota_jobs\n",
    "from linkedin_scraper import scrape_linkedin_jobs\n",
    "from processor import process_data\n",
    "from config import *\n",
    "\n",
    "# import importlib\n",
    "# import config\n",
    "# importlib.reload(config)"
   ]
  },
  {
   "cell_type": "code",
   "execution_count": 25,
   "id": "16fcc6d2",
   "metadata": {},
   "outputs": [
    {
     "name": "stdout",
     "output_type": "stream",
     "text": [
      "Checking: https://www.rabota.md/ro/vacancies/category/it/developers/1\n",
      "Checking: https://www.rabota.md/ro/vacancies/category/it/developers/2\n",
      "Checking: https://www.rabota.md/ro/vacancies/category/it/developers/3\n",
      "Checking: https://www.rabota.md/ro/vacancies/category/it/developers/4\n",
      "Checking: https://www.rabota.md/ro/vacancies/category/it/developers/5\n",
      "Checking: https://www.rabota.md/ro/vacancies/category/it/developers/6\n",
      "Checking: https://www.rabota.md/ro/vacancies/category/it/developers/1\n",
      "Checking: https://www.rabota.md/ro/vacancies/category/it/developers/2\n",
      "Checking: https://www.rabota.md/ro/vacancies/category/it/developers/3\n",
      "Checking: https://www.rabota.md/ro/vacancies/category/it/developers/4\n",
      "Checking: https://www.rabota.md/ro/vacancies/category/it/developers/5\n",
      "Total unique URLs found for Rabota.md: 413\n",
      "Saved data for https://www.rabota.md/ro/locuri-de-munca/programmist-net/123018\n",
      "Error scraping https://www.rabota.md/ro/joburi/mlops-specialist/15506732/124327: 404 Client Error: Not Found for url: https://www.rabota.md/ro/joburi/mlops-specialist/15506732/124327\n",
      "Error scraping https://www.rabota.md/ro/joburi/programmer/15512445/117331: 404 Client Error: Not Found for url: https://www.rabota.md/ro/joburi/programmer/15512445/117331\n",
      "Error scraping https://www.rabota.md/ro/joburi/technical-support-specialist/15515951/99155: 404 Client Error: Not Found for url: https://www.rabota.md/ro/joburi/technical-support-specialist/15515951/99155\n",
      "Error scraping https://www.rabota.md/ro/joburi/devops-engineer-freelance/15512763/116207: 404 Client Error: Not Found for url: https://www.rabota.md/ro/joburi/devops-engineer-freelance/15512763/116207\n",
      "Saved data for https://www.rabota.md/ro/locuri-de-munca/android-developer/123215\n",
      "Saved data for https://www.rabota.md/ro/locuri-de-munca/lectori-practicieni-c-aspnet-adonet/78242\n",
      "Saved data for https://www.rabota.md/ro/locuri-de-munca/angular-developer/79994\n",
      "Saved data for https://www.rabota.md/ro/locuri-de-munca/c-c-developer/57593\n",
      "Saved data for https://www.rabota.md/ro/locuri-de-munca/nodejs-developer/106893\n",
      "Saved data for https://www.rabota.md/ro/joburi/golang-developer/15512026\n",
      "Saved data for https://www.rabota.md/ro/locuri-de-munca/veb-programmist-junior-middle/122560\n",
      "Saved data for https://www.rabota.md/ro/locuri-de-munca/middle-front-end-developer/118009\n",
      "Saved data for https://www.rabota.md/ro/locuri-de-munca/oracle-dba/76027\n",
      "Saved data for https://www.rabota.md/ro/locuri-de-munca/programmist-1s/68747\n",
      "Saved data for https://www.rabota.md/ro/locuri-de-munca/senior-c-developer-4000-eur/114310\n",
      "Saved data for https://www.rabota.md/ro/locuri-de-munca/senior-front-end-razrabotchik-ot-2500/74679\n",
      "Saved data for https://www.rabota.md/ro/locuri-de-munca/ui-ux-designer-10000-35000-mdl/68063\n",
      "Error scraping https://www.rabota.md/ro/joburi/devops-engineer/15511262/120147: 404 Client Error: Not Found for url: https://www.rabota.md/ro/joburi/devops-engineer/15511262/120147\n",
      "Saved data for https://www.rabota.md/ro/locuri-de-munca/structural-tekla-engineer/86736\n",
      "Saved data for https://www.rabota.md/ro/locuri-de-munca/ios-developer/114772\n",
      "Saved data for https://www.rabota.md/ro/locuri-de-munca/java-developer/53797\n",
      "Error scraping https://www.rabota.md/ro/joburi/it-project-manager/15515680/100677: 404 Client Error: Not Found for url: https://www.rabota.md/ro/joburi/it-project-manager/15515680/100677\n",
      "Saved data for https://www.rabota.md/ro/locuri-de-munca/front-end-developer-angular-middle-rassmatrivaem-grazhdan-ukrainy/83115\n",
      "Error scraping https://www.rabota.md/ro/joburi/net-core-aws-lambda-developer/15508674/123374: 404 Client Error: Not Found for url: https://www.rabota.md/ro/joburi/net-core-aws-lambda-developer/15508674/123374\n",
      "Error scraping https://www.rabota.md/ro/joburi/profesor-de-programare-pentru-copii-impact-ac/15510164/121993: 404 Client Error: Not Found for url: https://www.rabota.md/ro/joburi/profesor-de-programare-pentru-copii-impact-ac/15510164/121993\n",
      "Error scraping https://www.rabota.md/ro/joburi/back-end-developer-1500-3000-eur/15501148/116930: 404 Client Error: Not Found for url: https://www.rabota.md/ro/joburi/back-end-developer-1500-3000-eur/15501148/116930\n",
      "Saved data for https://www.rabota.md/ro/locuri-de-munca/android-developer-profitcom/124360\n",
      "Saved data for https://www.rabota.md/ro/locuri-de-munca/senior-software-engineer/32455\n",
      "Saved data for https://www.rabota.md/ro/locuri-de-munca/lectori-practicieni-javascript-frameworks-angular-react-vuejs/78236\n",
      "Saved data for https://www.rabota.md/ro/locuri-de-munca/junior-middle-net-fullstack-developer/118718\n",
      "Saved data for https://www.rabota.md/ro/locuri-de-munca/administrator-al-sistemului-de-plati-application-database-administrator/100768\n",
      "Error scraping https://www.rabota.md/ro/joburi/team-lead-noc-specialist/15511260/120138: 404 Client Error: Not Found for url: https://www.rabota.md/ro/joburi/team-lead-noc-specialist/15511260/120138\n",
      "Saved data for https://www.rabota.md/ro/locuri-de-munca/middle-php-developer-1800-usd/36691\n",
      "Saved data for https://www.rabota.md/ro/locuri-de-munca/zabbix-administrator/122966\n",
      "Saved data for https://www.rabota.md/ro/locuri-de-munca/senior-java-developer-full-stack/117622\n",
      "Saved data for https://www.rabota.md/ro/locuri-de-munca/c-net-developer/122369\n",
      "Unexpected exception formatting exception. Falling back to standard exception\n"
     ]
    },
    {
     "name": "stderr",
     "output_type": "stream",
     "text": [
      "Traceback (most recent call last):\n",
      "  File \"/home/catalin/Workspace/Jupiter/venv/lib/python3.9/site-packages/IPython/core/interactiveshell.py\", line 3550, in run_code\n",
      "    exec(code_obj, self.user_global_ns, self.user_ns)\n",
      "  File \"/tmp/ipykernel_12352/356483959.py\", line 2, in <module>\n",
      "    scrape_rabota_jobs(db_file=DB_FILE)\n",
      "  File \"/home/catalin/Workspace/Jupiter/job_market_md_refactor/rabota_scraper.py\", line 89, in scrape_rabota_jobs\n",
      "  File \"/home/catalin/Workspace/Jupiter/job_market_md_refactor/rabota_scraper.py\", line 18, in scrape_rabota_page\n",
      "    classes_to_extract = [\"sidebar\", \"vacancy-content\", \"vacancy-title\", \"company-title\"]\n",
      "  File \"/home/catalin/Workspace/Jupiter/venv/lib/python3.9/site-packages/requests/api.py\", line 73, in get\n",
      "    return request(\"get\", url, params=params, **kwargs)\n",
      "  File \"/home/catalin/Workspace/Jupiter/venv/lib/python3.9/site-packages/requests/api.py\", line 59, in request\n",
      "    return session.request(method=method, url=url, **kwargs)\n",
      "  File \"/home/catalin/Workspace/Jupiter/venv/lib/python3.9/site-packages/requests/sessions.py\", line 589, in request\n",
      "    resp = self.send(prep, **send_kwargs)\n",
      "  File \"/home/catalin/Workspace/Jupiter/venv/lib/python3.9/site-packages/requests/sessions.py\", line 703, in send\n",
      "    r = adapter.send(request, **kwargs)\n",
      "  File \"/home/catalin/Workspace/Jupiter/venv/lib/python3.9/site-packages/requests/adapters.py\", line 667, in send\n",
      "    resp = conn.urlopen(\n",
      "  File \"/home/catalin/Workspace/Jupiter/venv/lib/python3.9/site-packages/urllib3/connectionpool.py\", line 716, in urlopen\n",
      "    httplib_response = self._make_request(\n",
      "  File \"/home/catalin/Workspace/Jupiter/venv/lib/python3.9/site-packages/urllib3/connectionpool.py\", line 468, in _make_request\n",
      "    six.raise_from(e, None)\n",
      "  File \"<string>\", line 3, in raise_from\n",
      "  File \"/home/catalin/Workspace/Jupiter/venv/lib/python3.9/site-packages/urllib3/connectionpool.py\", line 463, in _make_request\n",
      "    httplib_response = conn.getresponse()\n",
      "  File \"/home/catalin/.pyenv/versions/3.9.21/lib/python3.9/http/client.py\", line 1377, in getresponse\n",
      "    response.begin()\n",
      "  File \"/home/catalin/.pyenv/versions/3.9.21/lib/python3.9/http/client.py\", line 320, in begin\n",
      "    version, status, reason = self._read_status()\n",
      "  File \"/home/catalin/.pyenv/versions/3.9.21/lib/python3.9/http/client.py\", line 281, in _read_status\n",
      "    line = str(self.fp.readline(_MAXLINE + 1), \"iso-8859-1\")\n",
      "  File \"/home/catalin/.pyenv/versions/3.9.21/lib/python3.9/socket.py\", line 716, in readinto\n",
      "    return self._sock.recv_into(b)\n",
      "  File \"/home/catalin/.pyenv/versions/3.9.21/lib/python3.9/ssl.py\", line 1275, in recv_into\n",
      "    return self.read(nbytes, buffer)\n",
      "  File \"/home/catalin/.pyenv/versions/3.9.21/lib/python3.9/ssl.py\", line 1133, in read\n",
      "    return self._sslobj.read(len, buffer)\n",
      "KeyboardInterrupt\n",
      "\n",
      "During handling of the above exception, another exception occurred:\n",
      "\n",
      "Traceback (most recent call last):\n",
      "  File \"/home/catalin/Workspace/Jupiter/venv/lib/python3.9/site-packages/IPython/core/interactiveshell.py\", line 2144, in showtraceback\n",
      "    stb = self.InteractiveTB.structured_traceback(\n",
      "  File \"/home/catalin/Workspace/Jupiter/venv/lib/python3.9/site-packages/IPython/core/ultratb.py\", line 1435, in structured_traceback\n",
      "    return FormattedTB.structured_traceback(\n",
      "  File \"/home/catalin/Workspace/Jupiter/venv/lib/python3.9/site-packages/IPython/core/ultratb.py\", line 1326, in structured_traceback\n",
      "    return VerboseTB.structured_traceback(\n",
      "  File \"/home/catalin/Workspace/Jupiter/venv/lib/python3.9/site-packages/IPython/core/ultratb.py\", line 1173, in structured_traceback\n",
      "    formatted_exception = self.format_exception_as_a_whole(etype, evalue, etb, number_of_lines_of_context,\n",
      "  File \"/home/catalin/Workspace/Jupiter/venv/lib/python3.9/site-packages/IPython/core/ultratb.py\", line 1088, in format_exception_as_a_whole\n",
      "    frames.append(self.format_record(record))\n",
      "  File \"/home/catalin/Workspace/Jupiter/venv/lib/python3.9/site-packages/IPython/core/ultratb.py\", line 970, in format_record\n",
      "    frame_info.lines, Colors, self.has_colors, lvals\n",
      "  File \"/home/catalin/Workspace/Jupiter/venv/lib/python3.9/site-packages/IPython/core/ultratb.py\", line 792, in lines\n",
      "    return self._sd.lines\n",
      "  File \"/home/catalin/Workspace/Jupiter/venv/lib/python3.9/site-packages/stack_data/utils.py\", line 145, in cached_property_wrapper\n",
      "    value = obj.__dict__[self.func.__name__] = self.func(obj)\n",
      "  File \"/home/catalin/Workspace/Jupiter/venv/lib/python3.9/site-packages/stack_data/core.py\", line 734, in lines\n",
      "    pieces = self.included_pieces\n",
      "  File \"/home/catalin/Workspace/Jupiter/venv/lib/python3.9/site-packages/stack_data/utils.py\", line 145, in cached_property_wrapper\n",
      "    value = obj.__dict__[self.func.__name__] = self.func(obj)\n",
      "  File \"/home/catalin/Workspace/Jupiter/venv/lib/python3.9/site-packages/stack_data/core.py\", line 681, in included_pieces\n",
      "    pos = scope_pieces.index(self.executing_piece)\n",
      "  File \"/home/catalin/Workspace/Jupiter/venv/lib/python3.9/site-packages/stack_data/utils.py\", line 145, in cached_property_wrapper\n",
      "    value = obj.__dict__[self.func.__name__] = self.func(obj)\n",
      "  File \"/home/catalin/Workspace/Jupiter/venv/lib/python3.9/site-packages/stack_data/core.py\", line 660, in executing_piece\n",
      "    return only(\n",
      "  File \"/home/catalin/Workspace/Jupiter/venv/lib/python3.9/site-packages/executing/executing.py\", line 116, in only\n",
      "    raise NotOneValueFound('Expected one value, found 0')\n",
      "executing.executing.NotOneValueFound: Expected one value, found 0\n"
     ]
    }
   ],
   "source": [
    "# Scrape jobs from Rabota.md\n",
    "scrape_rabota_jobs(db_file=DB_FILE)"
   ]
  },
  {
   "cell_type": "code",
   "execution_count": null,
   "id": "f701ca0c",
   "metadata": {},
   "outputs": [],
   "source": [
    "# Scrape jobs from LinkedIn\n",
    "scrape_linkedin_jobs(db_file=DB_FILE)"
   ]
  },
  {
   "cell_type": "code",
   "execution_count": null,
   "id": "3d46a423",
   "metadata": {},
   "outputs": [],
   "source": [
    "# Process Rabota.md data\n",
    "process_data(source=TABLE_NAMES.robota_md_raw, db_file=DB_FILE)"
   ]
  },
  {
   "cell_type": "code",
   "execution_count": null,
   "id": "72f377b7",
   "metadata": {},
   "outputs": [],
   "source": [
    "# Process LinkedIn data\n",
    "process_data(source=TABLE_LINKEDIN_RAW, db_file=DB_FILE)"
   ]
  }
 ],
 "metadata": {
  "kernelspec": {
   "display_name": "venv",
   "language": "python",
   "name": "python3"
  },
  "language_info": {
   "codemirror_mode": {
    "name": "ipython",
    "version": 3
   },
   "file_extension": ".py",
   "mimetype": "text/x-python",
   "name": "python",
   "nbconvert_exporter": "python",
   "pygments_lexer": "ipython3",
   "version": "3.9.21"
  }
 },
 "nbformat": 4,
 "nbformat_minor": 5
}
