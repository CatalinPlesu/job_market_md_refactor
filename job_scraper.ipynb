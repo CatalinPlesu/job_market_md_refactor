{
 "cells": [
  {
   "cell_type": "code",
   "execution_count": null,
   "id": "88ade96b",
   "metadata": {},
   "outputs": [],
   "source": [
    "from tinydb import TinyDB\n",
    "\n",
    "from rabota_scraper import scrape_rabota_jobs\n",
    "from linkedin_scraper import scrape_linkedin_jobs\n",
    "from processor import *\n",
    "from config import *\n",
    "from utils import print_duplicate_urls\n",
    "from deduplicator import deduplicate_processed"
   ]
  },
  {
   "cell_type": "code",
   "execution_count": null,
   "id": "16fcc6d2",
   "metadata": {},
   "outputs": [],
   "source": [
    "# Scrape jobs from Rabota.md\n",
    "scrape_rabota_jobs(db_file=DB_FILE)"
   ]
  },
  {
   "cell_type": "code",
   "execution_count": null,
   "id": "f701ca0c",
   "metadata": {},
   "outputs": [],
   "source": [
    "# Scrape jobs from LinkedIn\n",
    "scrape_linkedin_jobs(db_file=DB_FILE)"
   ]
  },
  {
   "cell_type": "code",
   "execution_count": null,
   "id": "3d46a423",
   "metadata": {},
   "outputs": [],
   "source": [
    "# Process Rabota.md data\n",
    "process_data(source=TABLE_ROBOTA_MD_RAW, db_file=DB_FILE)"
   ]
  },
  {
   "cell_type": "code",
   "execution_count": null,
   "id": "72f377b7",
   "metadata": {},
   "outputs": [],
   "source": [
    "# Process LinkedIn data\n",
    "process_data(source=TABLE_LINKEDIN_RAW, db_file=DB_FILE)"
   ]
  },
  {
   "cell_type": "code",
   "execution_count": null,
   "id": "d6874941",
   "metadata": {},
   "outputs": [],
   "source": [
    "db = TinyDB(DB_FILE)\n",
    "robota = db.table(TABLE_ROBOTA_MD_RAW)\n",
    "linkedin = db.table(TABLE_LINKEDIN_RAW)\n",
    "print_duplicate_urls(robota)"
   ]
  },
  {
   "cell_type": "code",
   "execution_count": null,
   "id": "a770cf1b",
   "metadata": {},
   "outputs": [],
   "source": [
    "print_duplicate_urls(linkedin)"
   ]
  },
  {
   "cell_type": "code",
   "execution_count": null,
   "id": "60244a7d",
   "metadata": {},
   "outputs": [],
   "source": [
    "verify_processed_flags(source=TABLE_ROBOTA_MD_RAW, db_file=DB_FILE, fix=True)"
   ]
  },
  {
   "cell_type": "code",
   "execution_count": null,
   "id": "7b744895",
   "metadata": {},
   "outputs": [],
   "source": [
    "verify_processed_flags(source=TABLE_LINKEDIN_RAW, db_file=DB_FILE, fix=True)"
   ]
  },
  {
   "cell_type": "code",
   "execution_count": 3,
   "id": "3ed33513",
   "metadata": {},
   "outputs": [
    {
     "name": "stderr",
     "output_type": "stream",
     "text": [
      "2025-06-21 10:01:24,220 - deduplicator - INFO - [INFO:018] Loaded 889 processed records\n",
      "2025-06-21 10:01:24,232 - deduplicator - INFO - [INFO:019] Found 889 unique groups by key fields\n",
      "2025-06-21 10:01:24,234 - deduplicator - INFO - [INFO:023] Deduplication completed.\n"
     ]
    }
   ],
   "source": [
    "deduplicate_processed(DB_FILE)"
   ]
  }
 ],
 "metadata": {
  "kernelspec": {
   "display_name": "venv",
   "language": "python",
   "name": "python3"
  },
  "language_info": {
   "codemirror_mode": {
    "name": "ipython",
    "version": 3
   },
   "file_extension": ".py",
   "mimetype": "text/x-python",
   "name": "python",
   "nbconvert_exporter": "python",
   "pygments_lexer": "ipython3",
   "version": "3.9.21"
  }
 },
 "nbformat": 4,
 "nbformat_minor": 5
}
