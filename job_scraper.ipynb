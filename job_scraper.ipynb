{
 "cells": [
  {
   "cell_type": "code",
   "execution_count": 1,
   "id": "88ade96b",
   "metadata": {},
   "outputs": [],
   "source": [
    "from rabota_scraper import scrape_rabota_jobs\n",
    "from linkedin_scraper import scrape_linkedin_jobs\n",
    "from processor import process_data\n",
    "from config import *\n",
    "\n",
    "# import importlib\n",
    "# import config\n",
    "# importlib.reload(config)"
   ]
  },
  {
   "cell_type": "code",
   "execution_count": null,
   "id": "16fcc6d2",
   "metadata": {},
   "outputs": [],
   "source": [
    "# Scrape jobs from Rabota.md\n",
    "scrape_rabota_jobs(db_file=DB_FILE)"
   ]
  },
  {
   "cell_type": "code",
   "execution_count": 2,
   "id": "f701ca0c",
   "metadata": {},
   "outputs": [
    {
     "name": "stdout",
     "output_type": "stream",
     "text": [
      "Total unique URLs found for LinkedIn: 83\n",
      "Saved data for https://www.linkedin.com/jobs/view/4231996132/?eBP=NOT_ELIGIBLE_FOR_CHARGING&refId=2JeNdnuSfHuleq%2FzHvXLvg%3D%3D&trackingId=Yh8TPzN%2FIhQqjC1b35hqLw%3D%3D&trk=flagship3_search_srp_jobs\n",
      "Saved data for https://www.linkedin.com/jobs/view/4221526594/?eBP=NOT_ELIGIBLE_FOR_CHARGING&refId=gm2ZdzRSaD8DvIuaqcFASw%3D%3D&trackingId=AArxBgjbJgMRnnK9bpw2pA%3D%3D&trk=flagship3_search_srp_jobs\n",
      "Saved data for https://www.linkedin.com/jobs/view/4233489143/?eBP=NOT_ELIGIBLE_FOR_CHARGING&refId=iY8gDh3mpPEh9v9W8Z8qyQ%3D%3D&trackingId=jEhDFr8%2BtsaChP2DFSIw9g%3D%3D&trk=flagship3_search_srp_jobs&lipi=urn%3Ali%3Apage%3Ad_flagship3_search_srp_jobs%3BbLSOSLkNQ0uTSIWMRPax3Q%3D%3D&lici=jEhDFr8%2BtsaChP2DFSIw9g%3D%3D\n",
      "Saved data for https://www.linkedin.com/jobs/view/4240649413/?eBP=NOT_ELIGIBLE_FOR_CHARGING&refId=VrsLmOTAijeqnvY39MZu2A%3D%3D&trackingId=MVSiPCXu9PhBVHVd4V%2BX2A%3D%3D&trk=flagship3_search_srp_jobs\n",
      "Saved data for https://www.linkedin.com/jobs/view/4127754743/?eBP=NOT_ELIGIBLE_FOR_CHARGING&refId=Yd6VciAGc5ERlhn8OTr10A%3D%3D&trackingId=kiXM8TnjYsxIR5kXT7ZnFA%3D%3D&trk=flagship3_search_srp_jobs\n",
      "Saved data for https://www.linkedin.com/jobs/view/4220928058/?eBP=NOT_ELIGIBLE_FOR_CHARGING&refId=gm2ZdzRSaD8DvIuaqcFASw%3D%3D&trackingId=Lm8MPHcgXOm%2FpbNPh%2Bqdqw%3D%3D&trk=flagship3_search_srp_jobs\n",
      "Saved data for https://www.linkedin.com/jobs/view/4209543620/?eBP=CwEAAAGXJSlUBr6evS_DLnd4bOkRiENnbY_AJaDaU7YvEPYGEQ8hMTu5k4n9e9bZMTMWje6CjK3Qku-hJV2rt1xJWv5fUrgU0ZskTTcEH7J56Ec_dBNzt3iskQtpDFICfB1Q6iFBY-Tid9K8i6NN1ezjWLWa4MhtVBaas5DuNRBMvjgIFMea1dvZQzjqiU2HMQydfZdeZUFosqvxaZy5EBHWgblU8X1UZs8TUzZOORijvzoKvn2O5VKh_fdEAcVukQ7KjH89dPxYA9l1Uh4ZBWJ1vSXHziuljjo0hHTjHjsk56EWOuaFRQoLmMoOO5eO5p1tkVx2IQ1rtDUa9h_L0yL3-gIL3LEbnCvU77AavfCzU76Wja4AA3NPFXH8jTEokIsAtHUDGyl-XnGdnEkkCWr5DtB-MBPO9fxOQ6AQhQzjCVr-fjfbMMlNQqGOBq2WxDuWFK5x-M1Jtk1WiO14SlOy9gfnCmhlKKBVynbCv4tPVpJzHBRAgwA9YrfIiSMtqyIR4hqzww&refId=gm2ZdzRSaD8DvIuaqcFASw%3D%3D&trackingId=NbIf3aegthwz%2BmBJIDKHVw%3D%3D&trk=flagship3_search_srp_jobs\n",
      "Saved data for https://www.linkedin.com/jobs/view/4240395198/?eBP=NOT_ELIGIBLE_FOR_CHARGING&refId=VrsLmOTAijeqnvY39MZu2A%3D%3D&trackingId=%2Bf9s8g2uiW6V8JwEKwkAVQ%3D%3D&trk=flagship3_search_srp_jobs\n",
      "Saved data for https://www.linkedin.com/jobs/view/4236842860/?eBP=CwEAAAGXJSmSBQ2AKCNk4o02AoMSjFaRaU7w1lvyTHNcURoVvh9g1MTH_357Tyc7mGMt4hO3C8rSulGQA1VeoiUJptoas9Hc_rkvStcuyubySS2v3BB9i7L29AIVSeEv1hlYyrs2SGHUBW9vGwQLJTZnoHjPT7CouE_ulDlFWTsMpFnF-sVXI4aYJDN08njyPl7fZI1iua893Y_d2_UQPq1OcitMEDCIRWmrStbfNvFC-jbpBtUqjq09KsKxE58DImUoJrxFaDBD4ymsuZEbN7Z9meKhjE9UL3ouzlp7Q87n4ODR4iXdLB_DTd5J-85fFIyIEnQ2GZoIXGPapTg3FT0nYeXV_x-2QFex7dWcRv6KmV-cWv7UxNuFe_iZNMaU3jCar5HVgEoRYFqys6ycApcX-KSZbL2oJcCuA7MGmBKkgM_rlNB1jVbNesXjUfbd_lGzCZPAI-03zoJmRt0WGVY0wkTvm8O3B4WO03tguNsb3a1TYqLDiObmd80ykoo596vvlU-aSLTe&refId=kbGrrpy0waUx1ns7%2Bt2RKw%3D%3D&trackingId=IJAUcSjN%2BkAyISvZOwbpxw%3D%3D&trk=flagship3_search_srp_jobs\n",
      "Saved data for https://www.linkedin.com/jobs/view/4231923510/?eBP=NOT_ELIGIBLE_FOR_CHARGING&refId=2JeNdnuSfHuleq%2FzHvXLvg%3D%3D&trackingId=AiahW6bYqpftFqel%2BiMc1Q%3D%3D&trk=flagship3_search_srp_jobs\n",
      "Saved data for https://www.linkedin.com/jobs/view/4236580406/?eBP=NOT_ELIGIBLE_FOR_CHARGING&refId=gm2ZdzRSaD8DvIuaqcFASw%3D%3D&trackingId=OxkrYnsFt4GHWQ4AJWzE%2BQ%3D%3D&trk=flagship3_search_srp_jobs\n",
      "Saved data for https://www.linkedin.com/jobs/view/2902876557/?eBP=NOT_ELIGIBLE_FOR_CHARGING&refId=2JeNdnuSfHuleq%2FzHvXLvg%3D%3D&trackingId=jVX260ZsmPKPmNWPAmKtEQ%3D%3D&trk=flagship3_search_srp_jobs\n",
      "Saved data for https://www.linkedin.com/jobs/view/4233104914/?eBP=CwEAAAGXJSlUBuh-q4klsJGUw04vKnYBN32X_WbZAordMObvVVHfbjTT02kiTbdkXCSxp0oaxDFxc_TQPbkj35k-6Iwg9Woh-MVH2J-L_vyyXLvO1q5C4Z7OPeVqVthpGnTf_U0LNC3mD-WOkq8vbqKMP-3mPxd-rp3wNOr8BzI3PUiDySK4xHBz2U-FKEzOXq_97OYvPd8LQeMAYfZTWMjgjKRM7_mt1ln9-_MffKiGctD9skK7x66cHMpPgR6JCi8es_LbFD_tdXdGEO98jCFIpFvUWPxaiilJo3N2_XY9sdY6gZeKm3EQ3gwKBO1ItDdZK9xH3zI73eXO8P0VwywlK7Xma1qEsxelBvsgVKjDWTXRH6KAF1UF5xl8aIOXyP29l2NCyo-JroNbxHURIPEgwG6vW_U_DBO_novwkRGdXVEOWKyfmz1N1qF80mBCb4KFbVh6Da94feRqWExnCe3363RHRe8QkN-jwKMJS6C_zfedsnxFedEdcTrr67urCaxRUIP99A&refId=gm2ZdzRSaD8DvIuaqcFASw%3D%3D&trackingId=afjAhLHau3Mf0noM75P2vg%3D%3D&trk=flagship3_search_srp_jobs\n",
      "Saved data for https://www.linkedin.com/jobs/view/4237030383/?eBP=CwEAAAGXJSmSBG_EJiOtokJz7JGuFIVz1U7rgJhxspwM-CxAjPdn-QgFyHVE8MTvSA1852IE6Pf0TLSTxj84aXu9_hChj7epJY42vEdrVe3IrIEI8LLkGAQRMvDK_bSaRtOGhwQt4SXcVbieXT7L5jJ64q4YZsg8-BvZSk_xYttbytGRJJ2L8rEkyd8rXO9uDG5AwQNbjMTafKEcJxeShu61i26gTYOGrB_NXNKZmhFMIBEQq-zfE7SN_LeJoq_L9JpwJ2UinIIkvjslFNBGqlTqxgzqkAxwo5tgqN_abdqF0T8mxdQcW0VSt_Up3IEZLRlk2GQ-XsDJWhlrYgmCVD9reA6yA3eSZ6ggZwZr2ExqD-4sBQxHm3ZuEOf4uFzFh2aBHlGhXz2PAKgATzLyVkvpOIbYh8coi-n4_tkDEH8VRg1Wd7iqSzDtacyMSeEVqHCqIAsvhuoIvdEIsmsSjoVitISkNG1gCT4sVBU-dcEuj8ViNfwaxZYt6HP0RmyiT7un0x8uOmDqPg0&refId=kbGrrpy0waUx1ns7%2Bt2RKw%3D%3D&trackingId=CGmCkMRa3vlfFzTvgMED5w%3D%3D&trk=flagship3_search_srp_jobs\n",
      "Saved data for https://www.linkedin.com/jobs/view/4236864418/?eBP=CwEAAAGXJSmSBTKO7vTBm6YfvflV1OpNsM9XZQdNs3dk9qg8KH5jd2fKMFVQJgLydCxjK_nyKUBkCpgebqZCzrjNX_PQrMLC993F0BrdQYTa5PbH9Fymw1zVhawhWkUus25S1oAzUcXa5FkTQ76VBrIL1Fc-SiEYeJIP8ihDv5e1pj00UE-0OlE0nTORj8pcig9qAPOkwqQGKVRfpyUa6o6Gh76-UOFz7UEUi8dmhF0v1S5Ha_uPdebhiRVoAmSw705Zli7YOUWJKv0a2TJvvLq4ziSxCUBSR4AhldgOT4-obciWNs4oSsvXBOQl3Af69wwGPxc6n5CNNddS8FlB_5-niw2XvWhDF-EvqP65a58reLphgvBTCt4XbTHjDOtyFt27d3KKgnSk-TCVDUu8xYJH3xdByBkuhfkUEPb7eAMLCfRqS8RDTFItszkIDJS53T12T1PD0Qpks_arb8C-Zcsvdxecl4pPVsa1rTICTHNZ77G0uCCmCnr69jCNIePzyXrXN5Mu-w&refId=kbGrrpy0waUx1ns7%2Bt2RKw%3D%3D&trackingId=5oP6WtfoEzqhUsXb%2F8mQxw%3D%3D&trk=flagship3_search_srp_jobs\n",
      "Saved data for https://www.linkedin.com/jobs/view/4236864416/?eBP=CwEAAAGXJSmSBXiKuQyfClcUOtv-QG5nWoE6j00_cn6XI-lNjKB3EVjTALibh39eyrok6tzILHl_RdGJBPd3EVgzSHPvCaR5Uvl3E5xweADJs7T-jxpPJQDalb3RLSPcrDxXbCT9Zqh7A721qbb2FGsB0U-rSYbqUEELkfW3T85nYaXJtiCC2mQVLkI1EE4f_FBD9SFd44Z-tXJOPLegSxZrI1nmZPve4r1vrGDQymBcKJHf9Zc43Kxj2tqleu1tCH9hxapmxmlQuDyXmEW8-VslIImBJLgeaVZeWzg5x7s4FelvNGxTWVyVArOFihuaRA_ttSeSUxuXP9hMgE4DIk9z4741w3dKvC4CugQoXES_T5K2MI_GdNP_pFRfnR5zuGyRDG3XcG3NPj-4IigKkKbQRmt0J2aIr6cVKnONOvesyyvaz9gSCGzFEvdDEiIGUralw15pwYTvuAat_PmvwANWQ6xrXFDW7V0VJQ3E8otGFW1BpPbv2XgGinNg5xa4US3eWWRTqQ&refId=kbGrrpy0waUx1ns7%2Bt2RKw%3D%3D&trackingId=fjJsQtD%2F3Op6BN74a33N%2FQ%3D%3D&trk=flagship3_search_srp_jobs\n",
      "Saved data for https://www.linkedin.com/jobs/view/4240648594/?eBP=NOT_ELIGIBLE_FOR_CHARGING&refId=VrsLmOTAijeqnvY39MZu2A%3D%3D&trackingId=xVya2RZ6165F2kkiL901WA%3D%3D&trk=flagship3_search_srp_jobs\n",
      "Saved data for https://www.linkedin.com/jobs/view/4225139361/?eBP=CwEAAAGXJSkbgejr7tSPaoiXeejOHAfv5eUdqb9wFdqj5rO131LcRCo7azuFMBPzn8ixS0R_6n1-NtyYJQrBm4DvBGIL845ZW_KQmh1A8AwdQHWtJANLXbmecYIRv-9XkEydQT7rIxKVk35-EgrKlczEIgKyzajFnOnn7d14_R82ANopit9K-o_QuGRCW4Tv_gmduprAJRZ-roqtnzaCl5uZF4mDD39J0aIk1FDiT1fvo3rDMGUcuPLfp45T8S-SBF6Qib1-Xvvy-ilOLApK7O12b-Z_EBlm-80M8OMRqrUJH-uh__PIwHONaatFyyjvDZzV2imtucjiUd5pzC-mFNQNMfGt4kG2Jd9evN5Rq97xUwvzwkbRqc01FPiPcsWz3uCtrPNYYOLuEJ2Eu7MvfILxnP1LRIUrALyqOsM1_LbsvbIwCic54DcZMlxlVpIxomYC6lmrVgMsusI_lUnx5jB3o7hzkjL2aD5gjGDGkrw9IffYimYEwNDjZLeDL_maBkfR6AnCon5s&refId=iY8gDh3mpPEh9v9W8Z8qyQ%3D%3D&trackingId=QiUGu%2FTQ1h1hBqgrzyR32g%3D%3D&trk=flagship3_search_srp_jobs\n",
      "Saved data for https://www.linkedin.com/jobs/view/4192130171/?eBP=CwEAAAGXJSlUBjxNRg8pttw7ATSZIXGEGb1gCGnn-_wttp2SmFLUW429ekQ8f34SJ72vP8FpPblUsyo2BMUHm6629UYtQ61m9hXJ7U8h4dOEF5QAfakPjDjM4iT6A2X8kWC-ESuWJQhtyXFFnTzMCZ-G8yv2GvpAJsnZlj-cPeyIBTcUGp4pXV-vf0V1S6HF6buxWV8Sd5segCU_7aHnAGkA3Xg3R_c9rWCODrQhP9ERRaMKQbR8I1jq6VIZmRtHJAi-gZiRX0N4C3TI4wk1N551c44FLvR93LiTsVP9gghVKUyYtPe643gyzDG1gxW-4SYCaIg2f_l9pbPhgqATPqAnSWQ1OfqRmfBM0RzTRq7-KcVzjcDaaJ0uid7YqocRO6ihqkOr0f4uBRX7aGPiQUqXbegWPDayvavQ18mQ2WC0ht5VbjCw423OfvMMypY1hNEu6OfDXO04chjqL1KzqYAQHPFFTM1KQb_z-cI2f6wtZbequcxsdyjLRz3X5AMo_e6kCnsqwlnc&refId=gm2ZdzRSaD8DvIuaqcFASw%3D%3D&trackingId=aRWcJHwiT7qAjdKu7o4zHA%3D%3D&trk=flagship3_search_srp_jobs\n",
      "Saved data for https://www.linkedin.com/jobs/view/4236890987/?eBP=CwEAAAGXJSmSBZIJAw7PZpW48TuyZ2bWpuXxE5ER48QsNbiyhP9i0-j_OqR47WVEH6tEXj1YQARRvYIxidN1JSWqMjCjRB7SxZ67AJUdGmbPslJncSF8x_8QFAwtEgq9EuRCt-Q5ATvHCOIfoEVD4SLcqyKP3EFQtOJsECe8ZfNDiS6RMQgfEquAK8rPgwKph9mIEpfWZGBdRsQatg77zJgoEUUMXXzeFfvBLjHK3Mb5baqpRrYjba2rIpAhoKL-6SAIhN98B2OZUy2joR9l07qNL-lTxMJfjtDNdymM6wqYUtbDDOazHamtY5MN2DBBlFstG9wDbr-l1HdX7lGO8knOJ1fhHzaUJ5BJrGWMD5j055wHx15i-g9Qi0zGB_ILrOltP4YU88B31tMFHOqd2mgSJKRAx7uSO6u-WZeJNt2CFtDxVHc8SYVh_Vm8R9PM-9Oa-tZE2dQVwLUDBwWGzF5jfNszNWTw6xQrke7TJTc_lMF2UVuiUUHlBHYpHPenbOY9gZSOFg&refId=kbGrrpy0waUx1ns7%2Bt2RKw%3D%3D&trackingId=yrkJPKUKKADk%2FQ0VSNNR4g%3D%3D&trk=flagship3_search_srp_jobs\n",
      "Saved data for https://www.linkedin.com/jobs/view/4189930366/?eBP=CwEAAAGXJSlyaUlYNgoOdwmnCMPaA7MtP6G7w-_5u7keLKZyXLc_Yc_8vN36DOYrXtII9AYeoCfQfdW2uiriAl5anKZFkoWA_8GIOV_sVfeJo6OSxM-vTkMgLAJctOPSezQXW2h5NG5Im7-90_dRyaT2xSozTawFXieemsPmDM3Hlv3U28NPaLdz10iMoHxmFZXTvuvqEUXLuDHl5jJvkSCd4wEmLiP3DSgBRsh1bruA9UuMSzapSpBj8m-ugeoNa2Sbtsn3gQB-iewTPPNYJgsBhwkrX2j2RrmVlRsKm1rCRmpQyA385db_4nEqCe6Q5vKMj-8YODaaZjOjUIhbIinDDSOA7BSuptiRH93Wt5qcOyiXqwWCINZRiUMp8kjE_6hnad2oXIYHYuL66jf1g-NU1pLLea05vIjINgPcgGAoHL07PQN6wXltlgWvGwg57nEkvKF8IcKfahdc2kZ0eb6OwutdTPNaI0eZ0_hvYuuKT3fOCpao7MPgIJYJNDRPLuTBiAaKru8f&refId=2JeNdnuSfHuleq%2FzHvXLvg%3D%3D&trackingId=J%2BqBrfQnovgD4bhCikxB3g%3D%3D&trk=flagship3_search_srp_jobs\n",
      "Saved data for https://www.linkedin.com/jobs/view/4235002735/?eBP=NOT_ELIGIBLE_FOR_CHARGING&refId=iY8gDh3mpPEh9v9W8Z8qyQ%3D%3D&trackingId=2E39zDylMeav5TrEgjOySA%3D%3D&trk=flagship3_search_srp_jobs\n",
      "Saved data for https://www.linkedin.com/jobs/view/4236866069/?eBP=CwEAAAGXJSmSBVMAUJTef1TmXz90iBznxYzQ3tW2lEiczsrSm2ZV23pFtkjzwayHB3Y-O8S0Nu2dU0WMAhw6dpuCSWkTVcbjGd-fdJCmDx7ThYk8FUF8qXVFbpG3Y6GJZN1dQeIVoeigvt27om0IkNaI-5-6V8Akr1yfPhSfW94yBaTDWdb9_sG75U_da-0OjqDl4th5w2Emx3Gq_kfxHJqLvCqDYKMh7ViY8ga4Rg4f8F_3dMjNyEqIxx0_akOuaWYli1uY2NiOZfsLfMXb0dLTrCdS-GMU8QS_5QYsmpc2yIzVYSys3Rx5U9KxluiHxKQTiPkOCXdAclwRy8DDZiV1z2MLx3aA3GTRv7zqDsB9s1vqGRpZYxpqTjzPdr60IsprYreL2U1cW_KiLLxF0vmTx4gGarhPgIwPexEFiKEfqgYpsMlFRfh2hC2UCkU8e8EgW3i1Fvh5VeubIqnwPplpyZiJS8dZCsBMReDMJ5Ae7mrNOslUyH4GRhmQyK8H__vZwN0dy-jB&refId=kbGrrpy0waUx1ns7%2Bt2RKw%3D%3D&trackingId=PmzNJu4rP%2BK0VgNjnEGkJw%3D%3D&trk=flagship3_search_srp_jobs\n"
     ]
    },
    {
     "ename": "KeyboardInterrupt",
     "evalue": "",
     "output_type": "error",
     "traceback": [
      "\u001b[0;31m---------------------------------------------------------------------------\u001b[0m",
      "\u001b[0;31mKeyboardInterrupt\u001b[0m                         Traceback (most recent call last)",
      "Cell \u001b[0;32mIn[2], line 2\u001b[0m\n\u001b[1;32m      1\u001b[0m \u001b[38;5;66;03m# Scrape jobs from LinkedIn\u001b[39;00m\n\u001b[0;32m----> 2\u001b[0m \u001b[43mscrape_linkedin_jobs\u001b[49m\u001b[43m(\u001b[49m\u001b[43mdb_file\u001b[49m\u001b[38;5;241;43m=\u001b[39;49m\u001b[43mDB_FILE\u001b[49m\u001b[43m)\u001b[49m\n",
      "File \u001b[0;32m~/Workspace/Jupiter/job_market_md_refactor/linkedin_scraper.py:188\u001b[0m, in \u001b[0;36mscrape_linkedin_jobs\u001b[0;34m(db_file)\u001b[0m\n\u001b[1;32m    186\u001b[0m         wait \u001b[38;5;241m=\u001b[39m insert_if_new(table, Job, url, job_data)\n\u001b[1;32m    187\u001b[0m         \u001b[38;5;28;01mif\u001b[39;00m wait:\n\u001b[0;32m--> 188\u001b[0m             time\u001b[38;5;241m.\u001b[39msleep(random\u001b[38;5;241m.\u001b[39muniform(\u001b[38;5;241m2\u001b[39m, \u001b[38;5;241m10\u001b[39m))\n\u001b[1;32m    189\u001b[0m \u001b[38;5;28;01mfinally\u001b[39;00m:\n\u001b[1;32m    190\u001b[0m     driver\u001b[38;5;241m.\u001b[39mquit()\n",
      "\u001b[0;31mKeyboardInterrupt\u001b[0m: "
     ]
    }
   ],
   "source": [
    "# Scrape jobs from LinkedIn\n",
    "scrape_linkedin_jobs(db_file=DB_FILE)"
   ]
  },
  {
   "cell_type": "code",
   "execution_count": null,
   "id": "3d46a423",
   "metadata": {},
   "outputs": [],
   "source": [
    "# Process Rabota.md data\n",
    "process_data(source=TABLE_ROBOTA_MD_RAW, db_file=DB_FILE)"
   ]
  },
  {
   "cell_type": "code",
   "execution_count": null,
   "id": "72f377b7",
   "metadata": {},
   "outputs": [],
   "source": [
    "# Process LinkedIn data\n",
    "process_data(source=TABLE_LINKEDIN_RAW, db_file=DB_FILE)"
   ]
  },
  {
   "cell_type": "code",
   "execution_count": null,
   "id": "d6874941",
   "metadata": {},
   "outputs": [],
   "source": []
  }
 ],
 "metadata": {
  "kernelspec": {
   "display_name": "venv",
   "language": "python",
   "name": "python3"
  },
  "language_info": {
   "codemirror_mode": {
    "name": "ipython",
    "version": 3
   },
   "file_extension": ".py",
   "mimetype": "text/x-python",
   "name": "python",
   "nbconvert_exporter": "python",
   "pygments_lexer": "ipython3",
   "version": "3.9.21"
  }
 },
 "nbformat": 4,
 "nbformat_minor": 5
}
