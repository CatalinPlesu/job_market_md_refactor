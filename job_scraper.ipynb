{
 "cells": [
  {
   "cell_type": "code",
   "execution_count": 1,
   "id": "88ade96b",
   "metadata": {},
   "outputs": [],
   "source": [
    "from tinydb import TinyDB\n",
    "\n",
    "from rabota_scraper import scrape_rabota_jobs\n",
    "from linkedin_scraper import scrape_linkedin_jobs\n",
    "from processor import process_data\n",
    "from config import *\n",
    "from utils import print_duplicate_urls"
   ]
  },
  {
   "cell_type": "code",
   "execution_count": null,
   "id": "16fcc6d2",
   "metadata": {},
   "outputs": [],
   "source": [
    "# Scrape jobs from Rabota.md\n",
    "scrape_rabota_jobs(db_file=DB_FILE)"
   ]
  },
  {
   "cell_type": "code",
   "execution_count": null,
   "id": "f701ca0c",
   "metadata": {},
   "outputs": [],
   "source": [
    "# Scrape jobs from LinkedIn\n",
    "scrape_linkedin_jobs(db_file=DB_FILE)"
   ]
  },
  {
   "cell_type": "code",
   "execution_count": null,
   "id": "3d46a423",
   "metadata": {},
   "outputs": [],
   "source": [
    "# Process Rabota.md data\n",
    "process_data(source=TABLE_ROBOTA_MD_RAW, db_file=DB_FILE)"
   ]
  },
  {
   "cell_type": "code",
   "execution_count": null,
   "id": "72f377b7",
   "metadata": {},
   "outputs": [],
   "source": [
    "# Process LinkedIn data\n",
    "process_data(source=TABLE_LINKEDIN_RAW, db_file=DB_FILE)"
   ]
  },
  {
   "cell_type": "code",
   "execution_count": 3,
   "id": "d6874941",
   "metadata": {},
   "outputs": [
    {
     "name": "stdout",
     "output_type": "stream",
     "text": [
      "No duplicate URLs found.\n"
     ]
    }
   ],
   "source": [
    "db = TinyDB(DB_FILE)\n",
    "robota = db.table(TABLE_ROBOTA_MD_RAW)\n",
    "linkedin = db.table(TABLE_LINKEDIN_RAW)\n",
    "print_duplicate_urls(robota)"
   ]
  },
  {
   "cell_type": "code",
   "execution_count": 4,
   "id": "a770cf1b",
   "metadata": {},
   "outputs": [
    {
     "name": "stdout",
     "output_type": "stream",
     "text": [
      "No duplicate URLs found.\n"
     ]
    }
   ],
   "source": [
    "print_duplicate_urls(linkedin)"
   ]
  }
 ],
 "metadata": {
  "kernelspec": {
   "display_name": "venv",
   "language": "python",
   "name": "python3"
  },
  "language_info": {
   "codemirror_mode": {
    "name": "ipython",
    "version": 3
   },
   "file_extension": ".py",
   "mimetype": "text/x-python",
   "name": "python",
   "nbconvert_exporter": "python",
   "pygments_lexer": "ipython3",
   "version": "3.9.21"
  }
 },
 "nbformat": 4,
 "nbformat_minor": 5
}
